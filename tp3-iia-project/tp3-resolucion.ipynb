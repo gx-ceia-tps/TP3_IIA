{
 "cells": [
  {
   "cell_type": "code",
   "id": "initial_id",
   "metadata": {
    "collapsed": true,
    "ExecuteTime": {
     "end_time": "2024-08-24T14:09:32.596697Z",
     "start_time": "2024-08-24T14:09:32.555543Z"
    }
   },
   "source": [
    "import pandas as pd\n",
    "dataset = pd.read_csv(\"spambase.csv\") \n",
    "dataset.head(10)"
   ],
   "outputs": [
    {
     "data": {
      "text/plain": [
       "   word_freq_make  word_freq_address  word_freq_all  word_freq_3d  \\\n",
       "0               0                640            640             0   \n",
       "1             210                280            500             0   \n",
       "2              60                  0            710             0   \n",
       "3               0                  0              0             0   \n",
       "4               0                  0              0             0   \n",
       "5               0                  0              0             0   \n",
       "6               0                  0              0             0   \n",
       "7               0                  0              0             0   \n",
       "8             150                  0            460             0   \n",
       "9              60                120            770             0   \n",
       "\n",
       "   word_freq_our  word_freq_over  word_freq_remove  word_freq_internet  \\\n",
       "0            320               0                 0                   0   \n",
       "1            140             280               210                  70   \n",
       "2           1230             190               190                 120   \n",
       "3            630               0               310                 630   \n",
       "4            630               0               310                 630   \n",
       "5           1850               0                 0                1850   \n",
       "6           1920               0                 0                   0   \n",
       "7           1880               0                 0                1880   \n",
       "8            610               0               300                   0   \n",
       "9            190             320               380                   0   \n",
       "\n",
       "   word_freq_order  word_freq_mail  ...  word_freq_edu  word_freq_table  \\\n",
       "0                0               0  ...              0                0   \n",
       "1                0             940  ...              0                0   \n",
       "2              640             250  ...             60                0   \n",
       "3              310             630  ...              0                0   \n",
       "4              310             630  ...              0                0   \n",
       "5                0               0  ...              0                0   \n",
       "6                0             640  ...              0                0   \n",
       "7                0               0  ...              0                0   \n",
       "8              920             760  ...              0                0   \n",
       "9               60               0  ...              0                0   \n",
       "\n",
       "   word_freq_conference  char_freq_;  char_freq_(  char_freq_[  char_freq_!  \\\n",
       "0                     0            0            0            0          778   \n",
       "1                     0            0          132            0          372   \n",
       "2                     0           10          143            0          276   \n",
       "3                     0            0          137            0          137   \n",
       "4                     0            0          135            0          135   \n",
       "5                     0            0          223            0            0   \n",
       "6                     0            0           54            0          164   \n",
       "7                     0            0          206            0            0   \n",
       "8                     0            0          271            0          181   \n",
       "9                     0           40           30            0          244   \n",
       "\n",
       "   char_freq_$  char_freq_#  spam  \n",
       "0            0            0     1  \n",
       "1          180           48     1  \n",
       "2          184           10     1  \n",
       "3            0            0     1  \n",
       "4            0            0     1  \n",
       "5            0            0     1  \n",
       "6           54            0     1  \n",
       "7            0            0     1  \n",
       "8          203           22     1  \n",
       "9           81            0     1  \n",
       "\n",
       "[10 rows x 55 columns]"
      ],
      "text/html": [
       "<div>\n",
       "<style scoped>\n",
       "    .dataframe tbody tr th:only-of-type {\n",
       "        vertical-align: middle;\n",
       "    }\n",
       "\n",
       "    .dataframe tbody tr th {\n",
       "        vertical-align: top;\n",
       "    }\n",
       "\n",
       "    .dataframe thead th {\n",
       "        text-align: right;\n",
       "    }\n",
       "</style>\n",
       "<table border=\"1\" class=\"dataframe\">\n",
       "  <thead>\n",
       "    <tr style=\"text-align: right;\">\n",
       "      <th></th>\n",
       "      <th>word_freq_make</th>\n",
       "      <th>word_freq_address</th>\n",
       "      <th>word_freq_all</th>\n",
       "      <th>word_freq_3d</th>\n",
       "      <th>word_freq_our</th>\n",
       "      <th>word_freq_over</th>\n",
       "      <th>word_freq_remove</th>\n",
       "      <th>word_freq_internet</th>\n",
       "      <th>word_freq_order</th>\n",
       "      <th>word_freq_mail</th>\n",
       "      <th>...</th>\n",
       "      <th>word_freq_edu</th>\n",
       "      <th>word_freq_table</th>\n",
       "      <th>word_freq_conference</th>\n",
       "      <th>char_freq_;</th>\n",
       "      <th>char_freq_(</th>\n",
       "      <th>char_freq_[</th>\n",
       "      <th>char_freq_!</th>\n",
       "      <th>char_freq_$</th>\n",
       "      <th>char_freq_#</th>\n",
       "      <th>spam</th>\n",
       "    </tr>\n",
       "  </thead>\n",
       "  <tbody>\n",
       "    <tr>\n",
       "      <th>0</th>\n",
       "      <td>0</td>\n",
       "      <td>640</td>\n",
       "      <td>640</td>\n",
       "      <td>0</td>\n",
       "      <td>320</td>\n",
       "      <td>0</td>\n",
       "      <td>0</td>\n",
       "      <td>0</td>\n",
       "      <td>0</td>\n",
       "      <td>0</td>\n",
       "      <td>...</td>\n",
       "      <td>0</td>\n",
       "      <td>0</td>\n",
       "      <td>0</td>\n",
       "      <td>0</td>\n",
       "      <td>0</td>\n",
       "      <td>0</td>\n",
       "      <td>778</td>\n",
       "      <td>0</td>\n",
       "      <td>0</td>\n",
       "      <td>1</td>\n",
       "    </tr>\n",
       "    <tr>\n",
       "      <th>1</th>\n",
       "      <td>210</td>\n",
       "      <td>280</td>\n",
       "      <td>500</td>\n",
       "      <td>0</td>\n",
       "      <td>140</td>\n",
       "      <td>280</td>\n",
       "      <td>210</td>\n",
       "      <td>70</td>\n",
       "      <td>0</td>\n",
       "      <td>940</td>\n",
       "      <td>...</td>\n",
       "      <td>0</td>\n",
       "      <td>0</td>\n",
       "      <td>0</td>\n",
       "      <td>0</td>\n",
       "      <td>132</td>\n",
       "      <td>0</td>\n",
       "      <td>372</td>\n",
       "      <td>180</td>\n",
       "      <td>48</td>\n",
       "      <td>1</td>\n",
       "    </tr>\n",
       "    <tr>\n",
       "      <th>2</th>\n",
       "      <td>60</td>\n",
       "      <td>0</td>\n",
       "      <td>710</td>\n",
       "      <td>0</td>\n",
       "      <td>1230</td>\n",
       "      <td>190</td>\n",
       "      <td>190</td>\n",
       "      <td>120</td>\n",
       "      <td>640</td>\n",
       "      <td>250</td>\n",
       "      <td>...</td>\n",
       "      <td>60</td>\n",
       "      <td>0</td>\n",
       "      <td>0</td>\n",
       "      <td>10</td>\n",
       "      <td>143</td>\n",
       "      <td>0</td>\n",
       "      <td>276</td>\n",
       "      <td>184</td>\n",
       "      <td>10</td>\n",
       "      <td>1</td>\n",
       "    </tr>\n",
       "    <tr>\n",
       "      <th>3</th>\n",
       "      <td>0</td>\n",
       "      <td>0</td>\n",
       "      <td>0</td>\n",
       "      <td>0</td>\n",
       "      <td>630</td>\n",
       "      <td>0</td>\n",
       "      <td>310</td>\n",
       "      <td>630</td>\n",
       "      <td>310</td>\n",
       "      <td>630</td>\n",
       "      <td>...</td>\n",
       "      <td>0</td>\n",
       "      <td>0</td>\n",
       "      <td>0</td>\n",
       "      <td>0</td>\n",
       "      <td>137</td>\n",
       "      <td>0</td>\n",
       "      <td>137</td>\n",
       "      <td>0</td>\n",
       "      <td>0</td>\n",
       "      <td>1</td>\n",
       "    </tr>\n",
       "    <tr>\n",
       "      <th>4</th>\n",
       "      <td>0</td>\n",
       "      <td>0</td>\n",
       "      <td>0</td>\n",
       "      <td>0</td>\n",
       "      <td>630</td>\n",
       "      <td>0</td>\n",
       "      <td>310</td>\n",
       "      <td>630</td>\n",
       "      <td>310</td>\n",
       "      <td>630</td>\n",
       "      <td>...</td>\n",
       "      <td>0</td>\n",
       "      <td>0</td>\n",
       "      <td>0</td>\n",
       "      <td>0</td>\n",
       "      <td>135</td>\n",
       "      <td>0</td>\n",
       "      <td>135</td>\n",
       "      <td>0</td>\n",
       "      <td>0</td>\n",
       "      <td>1</td>\n",
       "    </tr>\n",
       "    <tr>\n",
       "      <th>5</th>\n",
       "      <td>0</td>\n",
       "      <td>0</td>\n",
       "      <td>0</td>\n",
       "      <td>0</td>\n",
       "      <td>1850</td>\n",
       "      <td>0</td>\n",
       "      <td>0</td>\n",
       "      <td>1850</td>\n",
       "      <td>0</td>\n",
       "      <td>0</td>\n",
       "      <td>...</td>\n",
       "      <td>0</td>\n",
       "      <td>0</td>\n",
       "      <td>0</td>\n",
       "      <td>0</td>\n",
       "      <td>223</td>\n",
       "      <td>0</td>\n",
       "      <td>0</td>\n",
       "      <td>0</td>\n",
       "      <td>0</td>\n",
       "      <td>1</td>\n",
       "    </tr>\n",
       "    <tr>\n",
       "      <th>6</th>\n",
       "      <td>0</td>\n",
       "      <td>0</td>\n",
       "      <td>0</td>\n",
       "      <td>0</td>\n",
       "      <td>1920</td>\n",
       "      <td>0</td>\n",
       "      <td>0</td>\n",
       "      <td>0</td>\n",
       "      <td>0</td>\n",
       "      <td>640</td>\n",
       "      <td>...</td>\n",
       "      <td>0</td>\n",
       "      <td>0</td>\n",
       "      <td>0</td>\n",
       "      <td>0</td>\n",
       "      <td>54</td>\n",
       "      <td>0</td>\n",
       "      <td>164</td>\n",
       "      <td>54</td>\n",
       "      <td>0</td>\n",
       "      <td>1</td>\n",
       "    </tr>\n",
       "    <tr>\n",
       "      <th>7</th>\n",
       "      <td>0</td>\n",
       "      <td>0</td>\n",
       "      <td>0</td>\n",
       "      <td>0</td>\n",
       "      <td>1880</td>\n",
       "      <td>0</td>\n",
       "      <td>0</td>\n",
       "      <td>1880</td>\n",
       "      <td>0</td>\n",
       "      <td>0</td>\n",
       "      <td>...</td>\n",
       "      <td>0</td>\n",
       "      <td>0</td>\n",
       "      <td>0</td>\n",
       "      <td>0</td>\n",
       "      <td>206</td>\n",
       "      <td>0</td>\n",
       "      <td>0</td>\n",
       "      <td>0</td>\n",
       "      <td>0</td>\n",
       "      <td>1</td>\n",
       "    </tr>\n",
       "    <tr>\n",
       "      <th>8</th>\n",
       "      <td>150</td>\n",
       "      <td>0</td>\n",
       "      <td>460</td>\n",
       "      <td>0</td>\n",
       "      <td>610</td>\n",
       "      <td>0</td>\n",
       "      <td>300</td>\n",
       "      <td>0</td>\n",
       "      <td>920</td>\n",
       "      <td>760</td>\n",
       "      <td>...</td>\n",
       "      <td>0</td>\n",
       "      <td>0</td>\n",
       "      <td>0</td>\n",
       "      <td>0</td>\n",
       "      <td>271</td>\n",
       "      <td>0</td>\n",
       "      <td>181</td>\n",
       "      <td>203</td>\n",
       "      <td>22</td>\n",
       "      <td>1</td>\n",
       "    </tr>\n",
       "    <tr>\n",
       "      <th>9</th>\n",
       "      <td>60</td>\n",
       "      <td>120</td>\n",
       "      <td>770</td>\n",
       "      <td>0</td>\n",
       "      <td>190</td>\n",
       "      <td>320</td>\n",
       "      <td>380</td>\n",
       "      <td>0</td>\n",
       "      <td>60</td>\n",
       "      <td>0</td>\n",
       "      <td>...</td>\n",
       "      <td>0</td>\n",
       "      <td>0</td>\n",
       "      <td>0</td>\n",
       "      <td>40</td>\n",
       "      <td>30</td>\n",
       "      <td>0</td>\n",
       "      <td>244</td>\n",
       "      <td>81</td>\n",
       "      <td>0</td>\n",
       "      <td>1</td>\n",
       "    </tr>\n",
       "  </tbody>\n",
       "</table>\n",
       "<p>10 rows × 55 columns</p>\n",
       "</div>"
      ]
     },
     "execution_count": 118,
     "metadata": {},
     "output_type": "execute_result"
    }
   ],
   "execution_count": 118
  },
  {
   "metadata": {
    "ExecuteTime": {
     "end_time": "2024-08-24T14:09:32.634984Z",
     "start_time": "2024-08-24T14:09:32.633265Z"
    }
   },
   "cell_type": "code",
   "source": "",
   "id": "a1bb0a691d0131c0",
   "outputs": [],
   "execution_count": null
  },
  {
   "metadata": {},
   "cell_type": "markdown",
   "source": "## 1.¿Cuáles son las 10 palabras más encontradas en correos con SPAM y en correos No SPAM? ¿Hay palabras en común? ¿Algunas llaman la atención?",
   "id": "b5fc0c6d5bd38eac"
  },
  {
   "metadata": {
    "ExecuteTime": {
     "end_time": "2024-08-24T14:09:32.682600Z",
     "start_time": "2024-08-24T14:09:32.666874Z"
    }
   },
   "cell_type": "code",
   "source": "column_sum = dataset.groupby(by=\"spam\", as_index=False).sum()",
   "id": "65a3409fcf1e8807",
   "outputs": [],
   "execution_count": 119
  },
  {
   "metadata": {
    "ExecuteTime": {
     "end_time": "2024-08-24T14:09:32.743570Z",
     "start_time": "2024-08-24T14:09:32.731274Z"
    }
   },
   "cell_type": "code",
   "source": "column_sum",
   "id": "b12b7a6cfe521962",
   "outputs": [
    {
     "data": {
      "text/plain": [
       "   spam  word_freq_make  word_freq_address  word_freq_all  word_freq_3d  \\\n",
       "0     0          204860             681569         559220          2470   \n",
       "1     1          276190             298510         732080        298550   \n",
       "\n",
       "   word_freq_our  word_freq_over  word_freq_remove  word_freq_internet  \\\n",
       "0         504739          124190             26160              107100   \n",
       "1         931799          317050            499309              377360   \n",
       "\n",
       "   word_freq_order  ...  word_freq_re  word_freq_edu  word_freq_table  \\\n",
       "0           106080  ...       1159138         800669            22840   \n",
       "1           308320  ...        226790          26700             2210   \n",
       "\n",
       "   word_freq_conference  char_freq_;  char_freq_(  char_freq_[  char_freq_!  \\\n",
       "0                142820       140182       442116        63242       306634   \n",
       "1                  3810        37299       197563        14864       931352   \n",
       "\n",
       "   char_freq_$  char_freq_#  \n",
       "0        32475        60536  \n",
       "1       316328       143003  \n",
       "\n",
       "[2 rows x 55 columns]"
      ],
      "text/html": [
       "<div>\n",
       "<style scoped>\n",
       "    .dataframe tbody tr th:only-of-type {\n",
       "        vertical-align: middle;\n",
       "    }\n",
       "\n",
       "    .dataframe tbody tr th {\n",
       "        vertical-align: top;\n",
       "    }\n",
       "\n",
       "    .dataframe thead th {\n",
       "        text-align: right;\n",
       "    }\n",
       "</style>\n",
       "<table border=\"1\" class=\"dataframe\">\n",
       "  <thead>\n",
       "    <tr style=\"text-align: right;\">\n",
       "      <th></th>\n",
       "      <th>spam</th>\n",
       "      <th>word_freq_make</th>\n",
       "      <th>word_freq_address</th>\n",
       "      <th>word_freq_all</th>\n",
       "      <th>word_freq_3d</th>\n",
       "      <th>word_freq_our</th>\n",
       "      <th>word_freq_over</th>\n",
       "      <th>word_freq_remove</th>\n",
       "      <th>word_freq_internet</th>\n",
       "      <th>word_freq_order</th>\n",
       "      <th>...</th>\n",
       "      <th>word_freq_re</th>\n",
       "      <th>word_freq_edu</th>\n",
       "      <th>word_freq_table</th>\n",
       "      <th>word_freq_conference</th>\n",
       "      <th>char_freq_;</th>\n",
       "      <th>char_freq_(</th>\n",
       "      <th>char_freq_[</th>\n",
       "      <th>char_freq_!</th>\n",
       "      <th>char_freq_$</th>\n",
       "      <th>char_freq_#</th>\n",
       "    </tr>\n",
       "  </thead>\n",
       "  <tbody>\n",
       "    <tr>\n",
       "      <th>0</th>\n",
       "      <td>0</td>\n",
       "      <td>204860</td>\n",
       "      <td>681569</td>\n",
       "      <td>559220</td>\n",
       "      <td>2470</td>\n",
       "      <td>504739</td>\n",
       "      <td>124190</td>\n",
       "      <td>26160</td>\n",
       "      <td>107100</td>\n",
       "      <td>106080</td>\n",
       "      <td>...</td>\n",
       "      <td>1159138</td>\n",
       "      <td>800669</td>\n",
       "      <td>22840</td>\n",
       "      <td>142820</td>\n",
       "      <td>140182</td>\n",
       "      <td>442116</td>\n",
       "      <td>63242</td>\n",
       "      <td>306634</td>\n",
       "      <td>32475</td>\n",
       "      <td>60536</td>\n",
       "    </tr>\n",
       "    <tr>\n",
       "      <th>1</th>\n",
       "      <td>1</td>\n",
       "      <td>276190</td>\n",
       "      <td>298510</td>\n",
       "      <td>732080</td>\n",
       "      <td>298550</td>\n",
       "      <td>931799</td>\n",
       "      <td>317050</td>\n",
       "      <td>499309</td>\n",
       "      <td>377360</td>\n",
       "      <td>308320</td>\n",
       "      <td>...</td>\n",
       "      <td>226790</td>\n",
       "      <td>26700</td>\n",
       "      <td>2210</td>\n",
       "      <td>3810</td>\n",
       "      <td>37299</td>\n",
       "      <td>197563</td>\n",
       "      <td>14864</td>\n",
       "      <td>931352</td>\n",
       "      <td>316328</td>\n",
       "      <td>143003</td>\n",
       "    </tr>\n",
       "  </tbody>\n",
       "</table>\n",
       "<p>2 rows × 55 columns</p>\n",
       "</div>"
      ]
     },
     "execution_count": 120,
     "metadata": {},
     "output_type": "execute_result"
    }
   ],
   "execution_count": 120
  },
  {
   "metadata": {
    "ExecuteTime": {
     "end_time": "2024-08-24T14:09:32.789790Z",
     "start_time": "2024-08-24T14:09:32.783577Z"
    }
   },
   "cell_type": "code",
   "source": [
    "spam_freqs = column_sum[column_sum['spam'] == 1].drop(columns='spam')\n",
    "no_spam_freqs = column_sum[column_sum['spam'] == 0].drop(columns='spam')"
   ],
   "id": "644bc451b979c368",
   "outputs": [],
   "execution_count": 121
  },
  {
   "metadata": {
    "ExecuteTime": {
     "end_time": "2024-08-24T14:09:32.871300Z",
     "start_time": "2024-08-24T14:09:32.865433Z"
    }
   },
   "cell_type": "code",
   "source": [
    "import numpy as np\n",
    "def get_top_n_freqs(original_freqs, n):\n",
    "    sorted_freqs = original_freqs.copy()\n",
    "    sorted_freqs[:] = np.sort(sorted_freqs, axis=1)[:, ::-1]    \n",
    "    top_n_freqs = sorted_freqs[sorted_freqs.columns[:n]]\n",
    "    top_n_words = list(map(lambda x: x.replace('word_freq_', ''),top_n_freqs))\n",
    "    return top_n_freqs, top_n_words\n"
   ],
   "id": "c9c1bdd3d4cf0b47",
   "outputs": [],
   "execution_count": 122
  },
  {
   "metadata": {
    "ExecuteTime": {
     "end_time": "2024-08-24T14:09:32.976968Z",
     "start_time": "2024-08-24T14:09:32.966302Z"
    }
   },
   "cell_type": "code",
   "source": [
    "top_10_spam, top_10_spam_words = get_top_n_freqs(spam_freqs, 10)\n",
    "top_10_spam"
   ],
   "id": "fe01b629f6e8c719",
   "outputs": [
    {
     "data": {
      "text/plain": [
       "   word_freq_make  word_freq_address  word_freq_all  word_freq_3d  \\\n",
       "1         4105599            2502597         997100        939790   \n",
       "\n",
       "   word_freq_our  word_freq_over  word_freq_remove  word_freq_internet  \\\n",
       "1         931799          931352            732080              635470   \n",
       "\n",
       "   word_freq_order  word_freq_mail  \n",
       "1           578759          521250  "
      ],
      "text/html": [
       "<div>\n",
       "<style scoped>\n",
       "    .dataframe tbody tr th:only-of-type {\n",
       "        vertical-align: middle;\n",
       "    }\n",
       "\n",
       "    .dataframe tbody tr th {\n",
       "        vertical-align: top;\n",
       "    }\n",
       "\n",
       "    .dataframe thead th {\n",
       "        text-align: right;\n",
       "    }\n",
       "</style>\n",
       "<table border=\"1\" class=\"dataframe\">\n",
       "  <thead>\n",
       "    <tr style=\"text-align: right;\">\n",
       "      <th></th>\n",
       "      <th>word_freq_make</th>\n",
       "      <th>word_freq_address</th>\n",
       "      <th>word_freq_all</th>\n",
       "      <th>word_freq_3d</th>\n",
       "      <th>word_freq_our</th>\n",
       "      <th>word_freq_over</th>\n",
       "      <th>word_freq_remove</th>\n",
       "      <th>word_freq_internet</th>\n",
       "      <th>word_freq_order</th>\n",
       "      <th>word_freq_mail</th>\n",
       "    </tr>\n",
       "  </thead>\n",
       "  <tbody>\n",
       "    <tr>\n",
       "      <th>1</th>\n",
       "      <td>4105599</td>\n",
       "      <td>2502597</td>\n",
       "      <td>997100</td>\n",
       "      <td>939790</td>\n",
       "      <td>931799</td>\n",
       "      <td>931352</td>\n",
       "      <td>732080</td>\n",
       "      <td>635470</td>\n",
       "      <td>578759</td>\n",
       "      <td>521250</td>\n",
       "    </tr>\n",
       "  </tbody>\n",
       "</table>\n",
       "</div>"
      ]
     },
     "execution_count": 123,
     "metadata": {},
     "output_type": "execute_result"
    }
   ],
   "execution_count": 123
  },
  {
   "metadata": {
    "ExecuteTime": {
     "end_time": "2024-08-24T14:09:33.045782Z",
     "start_time": "2024-08-24T14:09:33.043084Z"
    }
   },
   "cell_type": "code",
   "source": "top_10_spam_words",
   "id": "b67f23e3d620ee9c",
   "outputs": [
    {
     "data": {
      "text/plain": [
       "['make',\n",
       " 'address',\n",
       " 'all',\n",
       " '3d',\n",
       " 'our',\n",
       " 'over',\n",
       " 'remove',\n",
       " 'internet',\n",
       " 'order',\n",
       " 'mail']"
      ]
     },
     "execution_count": 124,
     "metadata": {},
     "output_type": "execute_result"
    }
   ],
   "execution_count": 124
  },
  {
   "metadata": {
    "ExecuteTime": {
     "end_time": "2024-08-24T14:09:33.163681Z",
     "start_time": "2024-08-24T14:09:33.157984Z"
    }
   },
   "cell_type": "code",
   "source": [
    "top_10_no_spam, top_10_no_spam_words = get_top_n_freqs(no_spam_freqs, 10)\n",
    "top_10_no_spam"
   ],
   "id": "d15f2c34d375cae1",
   "outputs": [
    {
     "data": {
      "text/plain": [
       "   word_freq_make  word_freq_address  word_freq_all  word_freq_3d  \\\n",
       "0         3541702            3527559        2496576       1495268   \n",
       "\n",
       "   word_freq_our  word_freq_over  word_freq_remove  word_freq_internet  \\\n",
       "0        1223098         1204398           1159138              800669   \n",
       "\n",
       "   word_freq_order  word_freq_mail  \n",
       "0           681569          604460  "
      ],
      "text/html": [
       "<div>\n",
       "<style scoped>\n",
       "    .dataframe tbody tr th:only-of-type {\n",
       "        vertical-align: middle;\n",
       "    }\n",
       "\n",
       "    .dataframe tbody tr th {\n",
       "        vertical-align: top;\n",
       "    }\n",
       "\n",
       "    .dataframe thead th {\n",
       "        text-align: right;\n",
       "    }\n",
       "</style>\n",
       "<table border=\"1\" class=\"dataframe\">\n",
       "  <thead>\n",
       "    <tr style=\"text-align: right;\">\n",
       "      <th></th>\n",
       "      <th>word_freq_make</th>\n",
       "      <th>word_freq_address</th>\n",
       "      <th>word_freq_all</th>\n",
       "      <th>word_freq_3d</th>\n",
       "      <th>word_freq_our</th>\n",
       "      <th>word_freq_over</th>\n",
       "      <th>word_freq_remove</th>\n",
       "      <th>word_freq_internet</th>\n",
       "      <th>word_freq_order</th>\n",
       "      <th>word_freq_mail</th>\n",
       "    </tr>\n",
       "  </thead>\n",
       "  <tbody>\n",
       "    <tr>\n",
       "      <th>0</th>\n",
       "      <td>3541702</td>\n",
       "      <td>3527559</td>\n",
       "      <td>2496576</td>\n",
       "      <td>1495268</td>\n",
       "      <td>1223098</td>\n",
       "      <td>1204398</td>\n",
       "      <td>1159138</td>\n",
       "      <td>800669</td>\n",
       "      <td>681569</td>\n",
       "      <td>604460</td>\n",
       "    </tr>\n",
       "  </tbody>\n",
       "</table>\n",
       "</div>"
      ]
     },
     "execution_count": 125,
     "metadata": {},
     "output_type": "execute_result"
    }
   ],
   "execution_count": 125
  },
  {
   "metadata": {
    "ExecuteTime": {
     "end_time": "2024-08-24T14:09:33.233341Z",
     "start_time": "2024-08-24T14:09:33.230400Z"
    }
   },
   "cell_type": "code",
   "source": "top_10_no_spam_words",
   "id": "623f7e57f926546",
   "outputs": [
    {
     "data": {
      "text/plain": [
       "['make',\n",
       " 'address',\n",
       " 'all',\n",
       " '3d',\n",
       " 'our',\n",
       " 'over',\n",
       " 'remove',\n",
       " 'internet',\n",
       " 'order',\n",
       " 'mail']"
      ]
     },
     "execution_count": 126,
     "metadata": {},
     "output_type": "execute_result"
    }
   ],
   "execution_count": 126
  },
  {
   "metadata": {
    "ExecuteTime": {
     "end_time": "2024-08-24T14:09:33.276883Z",
     "start_time": "2024-08-24T14:09:33.273347Z"
    }
   },
   "cell_type": "code",
   "source": [
    "spam_words = set(top_10_spam_words)\n",
    "no_spam_words = set(top_10_no_spam_words)\n",
    "\n",
    "intersection = spam_words & no_spam_words\n",
    "print(len(intersection))\n",
    "intersection"
   ],
   "id": "7d9f873b85b80a59",
   "outputs": [
    {
     "name": "stdout",
     "output_type": "stream",
     "text": [
      "10\n"
     ]
    },
    {
     "data": {
      "text/plain": [
       "{'3d',\n",
       " 'address',\n",
       " 'all',\n",
       " 'internet',\n",
       " 'mail',\n",
       " 'make',\n",
       " 'order',\n",
       " 'our',\n",
       " 'over',\n",
       " 'remove'}"
      ]
     },
     "execution_count": 127,
     "metadata": {},
     "output_type": "execute_result"
    }
   ],
   "execution_count": 127
  },
  {
   "metadata": {},
   "cell_type": "markdown",
   "source": [
    "Las 10 más encontradas tanto en SPAM como No SPAM son las mismas.\n",
    "Llama la atención la palabra 3d, es la única que parece fuera de contexto, más que nada porque es muy poco probable que se encuentre en un mail a primera vista. El resto de las palabras son de uso diario."
   ],
   "id": "1cf6f21e4afe952f"
  },
  {
   "metadata": {},
   "cell_type": "markdown",
   "source": "## 2.Separe el conjunto de datos en un conjunto de entrenamiento y un conjunto de prueba (70% y 30% respectivamente).",
   "id": "a5572da6ef2e9ff8"
  },
  {
   "metadata": {
    "ExecuteTime": {
     "end_time": "2024-08-24T14:09:33.327094Z",
     "start_time": "2024-08-24T14:09:33.318854Z"
    }
   },
   "cell_type": "code",
   "source": [
    "from sklearn.model_selection import train_test_split\n",
    "# Obtenemos los atributos y target\n",
    "X = (dataset.drop(columns=\"spam\") * 100).astype(int)\n",
    "#X = dataset2.drop(columns=\"spam\")\n",
    "y = dataset[\"spam\"]\n",
    "X_train, X_test, y_train, y_test= train_test_split(X, y, test_size = 0.3)"
   ],
   "id": "80301e8061eda2b7",
   "outputs": [],
   "execution_count": 128
  },
  {
   "metadata": {},
   "cell_type": "markdown",
   "source": "## 3.Utilizando un clasificador de Bayes ingenuo, entrene con el conjunto de entrenamiento.",
   "id": "3b81de54fac74da3"
  },
  {
   "metadata": {
    "ExecuteTime": {
     "end_time": "2024-08-24T14:09:33.412542Z",
     "start_time": "2024-08-24T14:09:33.396151Z"
    }
   },
   "cell_type": "code",
   "source": [
    "from sklearn.naive_bayes import MultinomialNB\n",
    "\n",
    "mnb = MultinomialNB()\n",
    "mnb.fit(X_train, y_train)"
   ],
   "id": "dc45027fe1f5841e",
   "outputs": [
    {
     "data": {
      "text/plain": [
       "MultinomialNB()"
      ],
      "text/html": [
       "<style>#sk-container-id-5 {\n",
       "  /* Definition of color scheme common for light and dark mode */\n",
       "  --sklearn-color-text: black;\n",
       "  --sklearn-color-line: gray;\n",
       "  /* Definition of color scheme for unfitted estimators */\n",
       "  --sklearn-color-unfitted-level-0: #fff5e6;\n",
       "  --sklearn-color-unfitted-level-1: #f6e4d2;\n",
       "  --sklearn-color-unfitted-level-2: #ffe0b3;\n",
       "  --sklearn-color-unfitted-level-3: chocolate;\n",
       "  /* Definition of color scheme for fitted estimators */\n",
       "  --sklearn-color-fitted-level-0: #f0f8ff;\n",
       "  --sklearn-color-fitted-level-1: #d4ebff;\n",
       "  --sklearn-color-fitted-level-2: #b3dbfd;\n",
       "  --sklearn-color-fitted-level-3: cornflowerblue;\n",
       "\n",
       "  /* Specific color for light theme */\n",
       "  --sklearn-color-text-on-default-background: var(--sg-text-color, var(--theme-code-foreground, var(--jp-content-font-color1, black)));\n",
       "  --sklearn-color-background: var(--sg-background-color, var(--theme-background, var(--jp-layout-color0, white)));\n",
       "  --sklearn-color-border-box: var(--sg-text-color, var(--theme-code-foreground, var(--jp-content-font-color1, black)));\n",
       "  --sklearn-color-icon: #696969;\n",
       "\n",
       "  @media (prefers-color-scheme: dark) {\n",
       "    /* Redefinition of color scheme for dark theme */\n",
       "    --sklearn-color-text-on-default-background: var(--sg-text-color, var(--theme-code-foreground, var(--jp-content-font-color1, white)));\n",
       "    --sklearn-color-background: var(--sg-background-color, var(--theme-background, var(--jp-layout-color0, #111)));\n",
       "    --sklearn-color-border-box: var(--sg-text-color, var(--theme-code-foreground, var(--jp-content-font-color1, white)));\n",
       "    --sklearn-color-icon: #878787;\n",
       "  }\n",
       "}\n",
       "\n",
       "#sk-container-id-5 {\n",
       "  color: var(--sklearn-color-text);\n",
       "}\n",
       "\n",
       "#sk-container-id-5 pre {\n",
       "  padding: 0;\n",
       "}\n",
       "\n",
       "#sk-container-id-5 input.sk-hidden--visually {\n",
       "  border: 0;\n",
       "  clip: rect(1px 1px 1px 1px);\n",
       "  clip: rect(1px, 1px, 1px, 1px);\n",
       "  height: 1px;\n",
       "  margin: -1px;\n",
       "  overflow: hidden;\n",
       "  padding: 0;\n",
       "  position: absolute;\n",
       "  width: 1px;\n",
       "}\n",
       "\n",
       "#sk-container-id-5 div.sk-dashed-wrapped {\n",
       "  border: 1px dashed var(--sklearn-color-line);\n",
       "  margin: 0 0.4em 0.5em 0.4em;\n",
       "  box-sizing: border-box;\n",
       "  padding-bottom: 0.4em;\n",
       "  background-color: var(--sklearn-color-background);\n",
       "}\n",
       "\n",
       "#sk-container-id-5 div.sk-container {\n",
       "  /* jupyter's `normalize.less` sets `[hidden] { display: none; }`\n",
       "     but bootstrap.min.css set `[hidden] { display: none !important; }`\n",
       "     so we also need the `!important` here to be able to override the\n",
       "     default hidden behavior on the sphinx rendered scikit-learn.org.\n",
       "     See: https://github.com/scikit-learn/scikit-learn/issues/21755 */\n",
       "  display: inline-block !important;\n",
       "  position: relative;\n",
       "}\n",
       "\n",
       "#sk-container-id-5 div.sk-text-repr-fallback {\n",
       "  display: none;\n",
       "}\n",
       "\n",
       "div.sk-parallel-item,\n",
       "div.sk-serial,\n",
       "div.sk-item {\n",
       "  /* draw centered vertical line to link estimators */\n",
       "  background-image: linear-gradient(var(--sklearn-color-text-on-default-background), var(--sklearn-color-text-on-default-background));\n",
       "  background-size: 2px 100%;\n",
       "  background-repeat: no-repeat;\n",
       "  background-position: center center;\n",
       "}\n",
       "\n",
       "/* Parallel-specific style estimator block */\n",
       "\n",
       "#sk-container-id-5 div.sk-parallel-item::after {\n",
       "  content: \"\";\n",
       "  width: 100%;\n",
       "  border-bottom: 2px solid var(--sklearn-color-text-on-default-background);\n",
       "  flex-grow: 1;\n",
       "}\n",
       "\n",
       "#sk-container-id-5 div.sk-parallel {\n",
       "  display: flex;\n",
       "  align-items: stretch;\n",
       "  justify-content: center;\n",
       "  background-color: var(--sklearn-color-background);\n",
       "  position: relative;\n",
       "}\n",
       "\n",
       "#sk-container-id-5 div.sk-parallel-item {\n",
       "  display: flex;\n",
       "  flex-direction: column;\n",
       "}\n",
       "\n",
       "#sk-container-id-5 div.sk-parallel-item:first-child::after {\n",
       "  align-self: flex-end;\n",
       "  width: 50%;\n",
       "}\n",
       "\n",
       "#sk-container-id-5 div.sk-parallel-item:last-child::after {\n",
       "  align-self: flex-start;\n",
       "  width: 50%;\n",
       "}\n",
       "\n",
       "#sk-container-id-5 div.sk-parallel-item:only-child::after {\n",
       "  width: 0;\n",
       "}\n",
       "\n",
       "/* Serial-specific style estimator block */\n",
       "\n",
       "#sk-container-id-5 div.sk-serial {\n",
       "  display: flex;\n",
       "  flex-direction: column;\n",
       "  align-items: center;\n",
       "  background-color: var(--sklearn-color-background);\n",
       "  padding-right: 1em;\n",
       "  padding-left: 1em;\n",
       "}\n",
       "\n",
       "\n",
       "/* Toggleable style: style used for estimator/Pipeline/ColumnTransformer box that is\n",
       "clickable and can be expanded/collapsed.\n",
       "- Pipeline and ColumnTransformer use this feature and define the default style\n",
       "- Estimators will overwrite some part of the style using the `sk-estimator` class\n",
       "*/\n",
       "\n",
       "/* Pipeline and ColumnTransformer style (default) */\n",
       "\n",
       "#sk-container-id-5 div.sk-toggleable {\n",
       "  /* Default theme specific background. It is overwritten whether we have a\n",
       "  specific estimator or a Pipeline/ColumnTransformer */\n",
       "  background-color: var(--sklearn-color-background);\n",
       "}\n",
       "\n",
       "/* Toggleable label */\n",
       "#sk-container-id-5 label.sk-toggleable__label {\n",
       "  cursor: pointer;\n",
       "  display: block;\n",
       "  width: 100%;\n",
       "  margin-bottom: 0;\n",
       "  padding: 0.5em;\n",
       "  box-sizing: border-box;\n",
       "  text-align: center;\n",
       "}\n",
       "\n",
       "#sk-container-id-5 label.sk-toggleable__label-arrow:before {\n",
       "  /* Arrow on the left of the label */\n",
       "  content: \"▸\";\n",
       "  float: left;\n",
       "  margin-right: 0.25em;\n",
       "  color: var(--sklearn-color-icon);\n",
       "}\n",
       "\n",
       "#sk-container-id-5 label.sk-toggleable__label-arrow:hover:before {\n",
       "  color: var(--sklearn-color-text);\n",
       "}\n",
       "\n",
       "/* Toggleable content - dropdown */\n",
       "\n",
       "#sk-container-id-5 div.sk-toggleable__content {\n",
       "  max-height: 0;\n",
       "  max-width: 0;\n",
       "  overflow: hidden;\n",
       "  text-align: left;\n",
       "  /* unfitted */\n",
       "  background-color: var(--sklearn-color-unfitted-level-0);\n",
       "}\n",
       "\n",
       "#sk-container-id-5 div.sk-toggleable__content.fitted {\n",
       "  /* fitted */\n",
       "  background-color: var(--sklearn-color-fitted-level-0);\n",
       "}\n",
       "\n",
       "#sk-container-id-5 div.sk-toggleable__content pre {\n",
       "  margin: 0.2em;\n",
       "  border-radius: 0.25em;\n",
       "  color: var(--sklearn-color-text);\n",
       "  /* unfitted */\n",
       "  background-color: var(--sklearn-color-unfitted-level-0);\n",
       "}\n",
       "\n",
       "#sk-container-id-5 div.sk-toggleable__content.fitted pre {\n",
       "  /* unfitted */\n",
       "  background-color: var(--sklearn-color-fitted-level-0);\n",
       "}\n",
       "\n",
       "#sk-container-id-5 input.sk-toggleable__control:checked~div.sk-toggleable__content {\n",
       "  /* Expand drop-down */\n",
       "  max-height: 200px;\n",
       "  max-width: 100%;\n",
       "  overflow: auto;\n",
       "}\n",
       "\n",
       "#sk-container-id-5 input.sk-toggleable__control:checked~label.sk-toggleable__label-arrow:before {\n",
       "  content: \"▾\";\n",
       "}\n",
       "\n",
       "/* Pipeline/ColumnTransformer-specific style */\n",
       "\n",
       "#sk-container-id-5 div.sk-label input.sk-toggleable__control:checked~label.sk-toggleable__label {\n",
       "  color: var(--sklearn-color-text);\n",
       "  background-color: var(--sklearn-color-unfitted-level-2);\n",
       "}\n",
       "\n",
       "#sk-container-id-5 div.sk-label.fitted input.sk-toggleable__control:checked~label.sk-toggleable__label {\n",
       "  background-color: var(--sklearn-color-fitted-level-2);\n",
       "}\n",
       "\n",
       "/* Estimator-specific style */\n",
       "\n",
       "/* Colorize estimator box */\n",
       "#sk-container-id-5 div.sk-estimator input.sk-toggleable__control:checked~label.sk-toggleable__label {\n",
       "  /* unfitted */\n",
       "  background-color: var(--sklearn-color-unfitted-level-2);\n",
       "}\n",
       "\n",
       "#sk-container-id-5 div.sk-estimator.fitted input.sk-toggleable__control:checked~label.sk-toggleable__label {\n",
       "  /* fitted */\n",
       "  background-color: var(--sklearn-color-fitted-level-2);\n",
       "}\n",
       "\n",
       "#sk-container-id-5 div.sk-label label.sk-toggleable__label,\n",
       "#sk-container-id-5 div.sk-label label {\n",
       "  /* The background is the default theme color */\n",
       "  color: var(--sklearn-color-text-on-default-background);\n",
       "}\n",
       "\n",
       "/* On hover, darken the color of the background */\n",
       "#sk-container-id-5 div.sk-label:hover label.sk-toggleable__label {\n",
       "  color: var(--sklearn-color-text);\n",
       "  background-color: var(--sklearn-color-unfitted-level-2);\n",
       "}\n",
       "\n",
       "/* Label box, darken color on hover, fitted */\n",
       "#sk-container-id-5 div.sk-label.fitted:hover label.sk-toggleable__label.fitted {\n",
       "  color: var(--sklearn-color-text);\n",
       "  background-color: var(--sklearn-color-fitted-level-2);\n",
       "}\n",
       "\n",
       "/* Estimator label */\n",
       "\n",
       "#sk-container-id-5 div.sk-label label {\n",
       "  font-family: monospace;\n",
       "  font-weight: bold;\n",
       "  display: inline-block;\n",
       "  line-height: 1.2em;\n",
       "}\n",
       "\n",
       "#sk-container-id-5 div.sk-label-container {\n",
       "  text-align: center;\n",
       "}\n",
       "\n",
       "/* Estimator-specific */\n",
       "#sk-container-id-5 div.sk-estimator {\n",
       "  font-family: monospace;\n",
       "  border: 1px dotted var(--sklearn-color-border-box);\n",
       "  border-radius: 0.25em;\n",
       "  box-sizing: border-box;\n",
       "  margin-bottom: 0.5em;\n",
       "  /* unfitted */\n",
       "  background-color: var(--sklearn-color-unfitted-level-0);\n",
       "}\n",
       "\n",
       "#sk-container-id-5 div.sk-estimator.fitted {\n",
       "  /* fitted */\n",
       "  background-color: var(--sklearn-color-fitted-level-0);\n",
       "}\n",
       "\n",
       "/* on hover */\n",
       "#sk-container-id-5 div.sk-estimator:hover {\n",
       "  /* unfitted */\n",
       "  background-color: var(--sklearn-color-unfitted-level-2);\n",
       "}\n",
       "\n",
       "#sk-container-id-5 div.sk-estimator.fitted:hover {\n",
       "  /* fitted */\n",
       "  background-color: var(--sklearn-color-fitted-level-2);\n",
       "}\n",
       "\n",
       "/* Specification for estimator info (e.g. \"i\" and \"?\") */\n",
       "\n",
       "/* Common style for \"i\" and \"?\" */\n",
       "\n",
       ".sk-estimator-doc-link,\n",
       "a:link.sk-estimator-doc-link,\n",
       "a:visited.sk-estimator-doc-link {\n",
       "  float: right;\n",
       "  font-size: smaller;\n",
       "  line-height: 1em;\n",
       "  font-family: monospace;\n",
       "  background-color: var(--sklearn-color-background);\n",
       "  border-radius: 1em;\n",
       "  height: 1em;\n",
       "  width: 1em;\n",
       "  text-decoration: none !important;\n",
       "  margin-left: 1ex;\n",
       "  /* unfitted */\n",
       "  border: var(--sklearn-color-unfitted-level-1) 1pt solid;\n",
       "  color: var(--sklearn-color-unfitted-level-1);\n",
       "}\n",
       "\n",
       ".sk-estimator-doc-link.fitted,\n",
       "a:link.sk-estimator-doc-link.fitted,\n",
       "a:visited.sk-estimator-doc-link.fitted {\n",
       "  /* fitted */\n",
       "  border: var(--sklearn-color-fitted-level-1) 1pt solid;\n",
       "  color: var(--sklearn-color-fitted-level-1);\n",
       "}\n",
       "\n",
       "/* On hover */\n",
       "div.sk-estimator:hover .sk-estimator-doc-link:hover,\n",
       ".sk-estimator-doc-link:hover,\n",
       "div.sk-label-container:hover .sk-estimator-doc-link:hover,\n",
       ".sk-estimator-doc-link:hover {\n",
       "  /* unfitted */\n",
       "  background-color: var(--sklearn-color-unfitted-level-3);\n",
       "  color: var(--sklearn-color-background);\n",
       "  text-decoration: none;\n",
       "}\n",
       "\n",
       "div.sk-estimator.fitted:hover .sk-estimator-doc-link.fitted:hover,\n",
       ".sk-estimator-doc-link.fitted:hover,\n",
       "div.sk-label-container:hover .sk-estimator-doc-link.fitted:hover,\n",
       ".sk-estimator-doc-link.fitted:hover {\n",
       "  /* fitted */\n",
       "  background-color: var(--sklearn-color-fitted-level-3);\n",
       "  color: var(--sklearn-color-background);\n",
       "  text-decoration: none;\n",
       "}\n",
       "\n",
       "/* Span, style for the box shown on hovering the info icon */\n",
       ".sk-estimator-doc-link span {\n",
       "  display: none;\n",
       "  z-index: 9999;\n",
       "  position: relative;\n",
       "  font-weight: normal;\n",
       "  right: .2ex;\n",
       "  padding: .5ex;\n",
       "  margin: .5ex;\n",
       "  width: min-content;\n",
       "  min-width: 20ex;\n",
       "  max-width: 50ex;\n",
       "  color: var(--sklearn-color-text);\n",
       "  box-shadow: 2pt 2pt 4pt #999;\n",
       "  /* unfitted */\n",
       "  background: var(--sklearn-color-unfitted-level-0);\n",
       "  border: .5pt solid var(--sklearn-color-unfitted-level-3);\n",
       "}\n",
       "\n",
       ".sk-estimator-doc-link.fitted span {\n",
       "  /* fitted */\n",
       "  background: var(--sklearn-color-fitted-level-0);\n",
       "  border: var(--sklearn-color-fitted-level-3);\n",
       "}\n",
       "\n",
       ".sk-estimator-doc-link:hover span {\n",
       "  display: block;\n",
       "}\n",
       "\n",
       "/* \"?\"-specific style due to the `<a>` HTML tag */\n",
       "\n",
       "#sk-container-id-5 a.estimator_doc_link {\n",
       "  float: right;\n",
       "  font-size: 1rem;\n",
       "  line-height: 1em;\n",
       "  font-family: monospace;\n",
       "  background-color: var(--sklearn-color-background);\n",
       "  border-radius: 1rem;\n",
       "  height: 1rem;\n",
       "  width: 1rem;\n",
       "  text-decoration: none;\n",
       "  /* unfitted */\n",
       "  color: var(--sklearn-color-unfitted-level-1);\n",
       "  border: var(--sklearn-color-unfitted-level-1) 1pt solid;\n",
       "}\n",
       "\n",
       "#sk-container-id-5 a.estimator_doc_link.fitted {\n",
       "  /* fitted */\n",
       "  border: var(--sklearn-color-fitted-level-1) 1pt solid;\n",
       "  color: var(--sklearn-color-fitted-level-1);\n",
       "}\n",
       "\n",
       "/* On hover */\n",
       "#sk-container-id-5 a.estimator_doc_link:hover {\n",
       "  /* unfitted */\n",
       "  background-color: var(--sklearn-color-unfitted-level-3);\n",
       "  color: var(--sklearn-color-background);\n",
       "  text-decoration: none;\n",
       "}\n",
       "\n",
       "#sk-container-id-5 a.estimator_doc_link.fitted:hover {\n",
       "  /* fitted */\n",
       "  background-color: var(--sklearn-color-fitted-level-3);\n",
       "}\n",
       "</style><div id=\"sk-container-id-5\" class=\"sk-top-container\"><div class=\"sk-text-repr-fallback\"><pre>MultinomialNB()</pre><b>In a Jupyter environment, please rerun this cell to show the HTML representation or trust the notebook. <br />On GitHub, the HTML representation is unable to render, please try loading this page with nbviewer.org.</b></div><div class=\"sk-container\" hidden><div class=\"sk-item\"><div class=\"sk-estimator fitted sk-toggleable\"><input class=\"sk-toggleable__control sk-hidden--visually\" id=\"sk-estimator-id-5\" type=\"checkbox\" checked><label for=\"sk-estimator-id-5\" class=\"sk-toggleable__label fitted sk-toggleable__label-arrow fitted\">&nbsp;&nbsp;MultinomialNB<a class=\"sk-estimator-doc-link fitted\" rel=\"noreferrer\" target=\"_blank\" href=\"https://scikit-learn.org/1.5/modules/generated/sklearn.naive_bayes.MultinomialNB.html\">?<span>Documentation for MultinomialNB</span></a><span class=\"sk-estimator-doc-link fitted\">i<span>Fitted</span></span></label><div class=\"sk-toggleable__content fitted\"><pre>MultinomialNB()</pre></div> </div></div></div></div>"
      ]
     },
     "execution_count": 129,
     "metadata": {},
     "output_type": "execute_result"
    }
   ],
   "execution_count": 129
  },
  {
   "metadata": {},
   "cell_type": "markdown",
   "source": "## 4.Utilizando un clasificador de Regresión Logística, entrene con el conjunto de entrenamiento (en este caso, normalice los datos).",
   "id": "5a6958d46bb8051a"
  },
  {
   "metadata": {
    "ExecuteTime": {
     "end_time": "2024-08-24T14:09:33.552084Z",
     "start_time": "2024-08-24T14:09:33.432812Z"
    }
   },
   "cell_type": "code",
   "source": [
    "from sklearn.linear_model import LogisticRegression\n",
    "from sklearn.preprocessing import MinMaxScaler\n",
    "scaler = MinMaxScaler()\n",
    "X_train_scaled = scaler.fit_transform(X_train)\n",
    "X_test_scaled = scaler.transform(X_test)\n",
    "\n",
    "# Lo transformamos en DataFrames\n",
    "X_train_scaled = pd.DataFrame(X_train_scaled, columns=X.columns)\n",
    "X_test_scaled = pd.DataFrame(X_test_scaled, columns=X.columns)\n",
    "\n",
    "lr = LogisticRegression().fit(X_train_scaled, y_train)"
   ],
   "id": "36f53deea36a3af0",
   "outputs": [],
   "execution_count": 130
  },
  {
   "metadata": {},
   "cell_type": "markdown",
   "source": "## 5.Calcule la matriz de confusión del conjunto de evaluación para ambos modelos. ¿Qué tipo de error comete más cada modelo? ¿Cuál de los dos tipos de error crees que es más importante para este problema?",
   "id": "9ba43bd7b6c6d9bf"
  },
  {
   "metadata": {
    "ExecuteTime": {
     "end_time": "2024-08-24T14:09:33.596812Z",
     "start_time": "2024-08-24T14:09:33.593336Z"
    }
   },
   "cell_type": "code",
   "source": "from sklearn.metrics import confusion_matrix",
   "id": "870ece5f396b3900",
   "outputs": [],
   "execution_count": 131
  },
  {
   "metadata": {},
   "cell_type": "markdown",
   "source": "En las filas esta el valor real y en las columnas el valor predicho.",
   "id": "2a794895a664091f"
  },
  {
   "metadata": {
    "ExecuteTime": {
     "end_time": "2024-08-24T14:09:33.669399Z",
     "start_time": "2024-08-24T14:09:33.657833Z"
    }
   },
   "cell_type": "code",
   "source": [
    "mnb_conf_mat = confusion_matrix(y_pred=mnb.predict(X_test),y_true=y_test, normalize='true')\n",
    "mnb_conf_mat"
   ],
   "id": "81278b7f13440e81",
   "outputs": [
    {
     "data": {
      "text/plain": [
       "array([[0.82084309, 0.17915691],\n",
       "       [0.04743833, 0.95256167]])"
      ]
     },
     "execution_count": 132,
     "metadata": {},
     "output_type": "execute_result"
    }
   ],
   "execution_count": 132
  },
  {
   "metadata": {
    "ExecuteTime": {
     "end_time": "2024-08-24T14:09:33.783277Z",
     "start_time": "2024-08-24T14:09:33.773719Z"
    }
   },
   "cell_type": "code",
   "source": [
    "lr_conf_mat = confusion_matrix(y_pred=lr.predict(X_test_scaled),y_true=y_test, normalize='true')\n",
    "lr_conf_mat"
   ],
   "id": "49ea31811ad43ec8",
   "outputs": [
    {
     "data": {
      "text/plain": [
       "array([[0.95550351, 0.04449649],\n",
       "       [0.23339658, 0.76660342]])"
      ]
     },
     "execution_count": 133,
     "metadata": {},
     "output_type": "execute_result"
    }
   ],
   "execution_count": 133
  },
  {
   "metadata": {},
   "cell_type": "markdown",
   "source": [
    "Tenemos dos posibilidades de error: \n",
    "- Predecir que es SPAM cuando no lo es (falso positivo o error de tipo 1)\n",
    "- Predecir que NO es SPAM cuando lo es (falso negativo o error de tipo 2)"
   ],
   "id": "e1b388ba378524c5"
  },
  {
   "metadata": {},
   "cell_type": "markdown",
   "source": [
    "En este problema en principio podría ser más grave el error de tipo 1 ya que si es un mail importante que lo envía un jefe/proveedor/cliente muy importante y es mal clasificado como SPAM podría costarnos nuestro trabajo o nuestra reputación. En cambio cuando decimos que no es SPAM y lo es, cuando revisemos nuestra casilla de correos seguramente nos demos cuenta casi inmediatamente de que lo es, pero habiendo ya filtrado miles de correos (teniendo una buena relación costo-beneficio).\n",
    "\n",
    "Esto es así siempre que asumamos que la ciberseguridad no está en juego. Si se trata de un mail con SPAM pero adentro tiene algún tipo de phishing, se podrían vulnerar datos sensibles (conexión a bases de datos, credenciales, contraseñas, entre otras) y se podría generar pérdida de confianza por parte de clientes, cortando presupuesto tanto para la empresa como para proyectos.\n",
    "\n",
    "Por simplicidad asumiremos que no estamos en este último caso. "
   ],
   "id": "9dc0d1610d153d84"
  },
  {
   "metadata": {
    "ExecuteTime": {
     "end_time": "2024-08-24T14:09:33.858989Z",
     "start_time": "2024-08-24T14:09:33.854051Z"
    }
   },
   "cell_type": "code",
   "source": [
    "tn, fp, fn, tp = mnb_conf_mat.ravel()\n",
    "print('Naive Bayes Multinomial')\n",
    "print(f'Verdaderos Positivos: {tp:.2f}')\n",
    "print(f'Falsos Positivos: {fp:.2f}')\n",
    "print(f'Falsos Negativos: {fn:.2f}')\n",
    "print(f'Verdaderos Negativos: {tn:.2f}')\n"
   ],
   "id": "8a2055642c06b16f",
   "outputs": [
    {
     "name": "stdout",
     "output_type": "stream",
     "text": [
      "Naive Bayes Multinomial\n",
      "Verdaderos Positivos: 0.95\n",
      "Falsos Positivos: 0.18\n",
      "Falsos Negativos: 0.05\n",
      "Verdaderos Negativos: 0.82\n"
     ]
    }
   ],
   "execution_count": 134
  },
  {
   "metadata": {
    "ExecuteTime": {
     "end_time": "2024-08-24T14:09:34.040871Z",
     "start_time": "2024-08-24T14:09:34.004264Z"
    }
   },
   "cell_type": "code",
   "source": [
    "tn, fp, fn, tp = lr_conf_mat.ravel()\n",
    "print('Regresión Logística')\n",
    "print(f'Verdaderos Positivos: {tp:.2f}')\n",
    "print(f'Falsos Positivos: {fp:.2f}')\n",
    "print(f'Falsos Negativos: {fn:.2f}')\n",
    "print(f'Verdaderos Negativos: {tn:.2f}')\n"
   ],
   "id": "7341d2acbb96a0bc",
   "outputs": [
    {
     "name": "stdout",
     "output_type": "stream",
     "text": [
      "Regresión Logística\n",
      "Verdaderos Positivos: 0.77\n",
      "Falsos Positivos: 0.04\n",
      "Falsos Negativos: 0.23\n",
      "Verdaderos Negativos: 0.96\n"
     ]
    }
   ],
   "execution_count": 135
  },
  {
   "metadata": {},
   "cell_type": "markdown",
   "source": [
    "En cuanto a error de tipo I y II, \n",
    "Naive Bayes Multinomial comete más error de tipo I. \n",
    "En cambio, Regresión Logística comete más error de tipo II."
   ],
   "id": "3fc2296f4d169f4e"
  },
  {
   "metadata": {},
   "cell_type": "markdown",
   "source": "## 6. Calcule la precisión y la recuperación de ambos modelos. Para cada métrica, ¿cuál es el mejor modelo? ¿Cómo se relacionan estas métricas con los tipos de errores analizados en el punto anterior? Expanda su respuesta.",
   "id": "3a34afe2c90746f6"
  },
  {
   "metadata": {
    "ExecuteTime": {
     "end_time": "2024-08-24T14:09:34.181417Z",
     "start_time": "2024-08-24T14:09:34.179116Z"
    }
   },
   "cell_type": "code",
   "source": [
    "def calculate_metrics(conf_mat):\n",
    "    tn, fp, fn, tp = conf_mat.ravel()\n",
    "    precision = tp / (tp + fp)\n",
    "    recall = tp / (tp + fn) \n",
    "    return precision, recall"
   ],
   "id": "ac91a61a05a610cf",
   "outputs": [],
   "execution_count": 136
  },
  {
   "metadata": {
    "ExecuteTime": {
     "end_time": "2024-08-24T14:09:34.333422Z",
     "start_time": "2024-08-24T14:09:34.330671Z"
    }
   },
   "cell_type": "code",
   "source": "calculate_metrics(mnb_conf_mat)",
   "id": "50dfbcd09e56b09f",
   "outputs": [
    {
     "data": {
      "text/plain": [
       "(0.8416948240759101, 0.952561669829222)"
      ]
     },
     "execution_count": 137,
     "metadata": {},
     "output_type": "execute_result"
    }
   ],
   "execution_count": 137
  },
  {
   "metadata": {
    "ExecuteTime": {
     "end_time": "2024-08-24T14:09:34.406377Z",
     "start_time": "2024-08-24T14:09:34.404139Z"
    }
   },
   "cell_type": "code",
   "source": "calculate_metrics(lr_conf_mat)",
   "id": "83cedcadd2e48f90",
   "outputs": [
    {
     "data": {
      "text/plain": [
       "(0.945140559168534, 0.7666034155597723)"
      ]
     },
     "execution_count": 138,
     "metadata": {},
     "output_type": "execute_result"
    }
   ],
   "execution_count": 138
  },
  {
   "metadata": {},
   "cell_type": "markdown",
   "source": [
    "El mejor modelo seria el de Regresion Logistica ya que, segun lo comentado anteriormente, se prefiere cometer error de tipo I antes de error de tipo II, por lo tanto, al tener una mayor precision, nos aseguramos de que se minimice la probabilidad de cometer error de tipo I.\n",
    "En el modelo Naive Bayes Multinomial se puede ver que tiene una baja precision y una alta recuperacion, esto se relaciona con los errores analizados anteriormente "
   ],
   "id": "c491343cbae0c1f6"
  },
  {
   "metadata": {},
   "cell_type": "markdown",
   "source": [
    "### Precisión\n",
    "\n",
    "La precisión mide los casos verdaderos positivos sobre el total de predicciones positivas (verdaderos positivos + falsos positivos). Es decir, de todos los casos que el modelo predice como positivos, cuántos realmente lo son.\n",
    "\n",
    "$$\n",
    "\\text{Precisión}_{mnb} = \\frac{TP}{TP + FP} = \\frac{0.96}{0.96 + 0.18} = 0.8396\n",
    "$$\n",
    "$$\n",
    "\\text{Precisión}_{lr} = \\frac{TP}{TP + FP} = \\frac{0.77}{0.77 + 0.05} = 0.9408\n",
    "$$\n",
    "\n",
    "Esto nos dice que:\n",
    "* En el caso de MNB, el 83.96% de las veces que el modelo predice un positivo, esta predicción es correcta.\n",
    "*  En el caso de LR, el 94.08% de las veces que el modelo predice un positivo, esta predicción es correcta.\n",
    "\n",
    "### Recuperación\n",
    "\n",
    "La recuperación mide los casos verdaderos positivos sobre todos los casos realmente positivos (verdaderos positivos + falsos negativos). Es decir, de todos los casos que son positivos, cuántos fueron correctamente identificados por el modelo.\n",
    "\n",
    "$$\n",
    "\\text{Recuperación}_{mnb} = \\frac{TP}{TP + FN} = \\frac{0.96}{0.96 + 0.04} = 0.9621\n",
    "$$\n",
    "$$\n",
    "\\text{Recuperación}_{lr} = \\frac{TP}{TP + FN} = \\frac{0.77}{0.77 + 0.23} = 0.7689\n",
    "$$\n",
    "Esto no dice que\n",
    " * En el caso de MNB, el modelo identifica correctamente el 96.21% de los casos positivos.\n",
    "  * En el caso de LR, el modelo identifica correctamente el 76.89% de los casos positivos."
   ],
   "id": "e4f82da1375c2e8c"
  },
  {
   "metadata": {},
   "cell_type": "markdown",
   "source": "## 7. Obtenga la curva ROC y el AUC (Área Bajo la Curva ROC) de ambos modelos.",
   "id": "82e1a7c5a31f0d6d"
  },
  {
   "metadata": {
    "ExecuteTime": {
     "end_time": "2024-08-24T14:35:40.923023Z",
     "start_time": "2024-08-24T14:35:40.744038Z"
    }
   },
   "cell_type": "code",
   "source": [
    "from sklearn.metrics import roc_curve\n",
    "from sklearn.metrics import roc_auc_score\n",
    "import matplotlib.pyplot as plt\n",
    "\n",
    "mnb_probs = mnb.predict_proba(X_test) \n",
    "mnb_probs = mnb_probs[:, 1]\n",
    "\n",
    "lr_probs = lr.predict_proba(X_test_scaled) \n",
    "lr_probs = lr_probs[:, 1]\n",
    "\n",
    "print(len(mnb_probs))\n",
    "mnb_fpr, mnb_tpr,_ = roc_curve(y_test, mnb_probs)\n",
    "mnb_auc = roc_auc_score(y_test, mnb_probs)\n",
    "\n",
    "lr_fpr, lr_tpr, lr_thres = roc_curve(y_test, lr_probs)\n",
    "lr_auc = roc_auc_score(y_test, lr_probs)\n",
    "\n",
    "plt.plot(mnb_fpr, mnb_tpr, linestyle='--',label=f'Naive Bayes Multinomial (AUC = {mnb_auc:.2f})')\n",
    "plt.plot(lr_fpr, lr_tpr, marker='.', label=f'Regresion Logistica (AUC = {lr_auc:.2f})')\n",
    "\n",
    "plt.xlabel('Falsos positivos')\n",
    "plt.ylabel('Verdaderos Positivos')\n",
    "plt.legend()\n",
    "\n",
    "plt.show()"
   ],
   "id": "29dcfd4415d8d603",
   "outputs": [
    {
     "name": "stdout",
     "output_type": "stream",
     "text": [
      "1381\n"
     ]
    },
    {
     "data": {
      "text/plain": [
       "<Figure size 640x480 with 1 Axes>"
      ],
      "image/png": "[encoded data removed]"
     },
     "metadata": {},
     "output_type": "display_data"
    }
   ],
   "execution_count": 156
  }
 ],
 "metadata": {
  "kernelspec": {
   "display_name": "Python 3",
   "language": "python",
   "name": "python3"
  },
  "language_info": {
   "codemirror_mode": {
    "name": "ipython",
    "version": 2
   },
   "file_extension": ".py",
   "mimetype": "text/x-python",
   "name": "python",
   "nbconvert_exporter": "python",
   "pygments_lexer": "ipython2",
   "version": "2.7.6"
  }
 },
 "nbformat": 4,
 "nbformat_minor": 5
}
